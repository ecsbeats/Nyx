{
 "cells": [
  {
   "cell_type": "markdown",
   "metadata": {},
   "source": [
    "# Trains a CNN model using tflearn wrapper for tensorflow"
   ]
  },
  {
   "cell_type": "code",
   "execution_count": 53,
   "metadata": {},
   "outputs": [],
   "source": [
    "# Imports\n",
    "import keras\n",
    "import h5py\n",
    "import numpy as np\n",
    "%run pretrain.ipynb"
   ]
  },
  {
   "cell_type": "code",
   "execution_count": 54,
   "metadata": {},
   "outputs": [],
   "source": [
    "batch_size = 96\n",
    "num_classes = 2\n",
    "epochs = 70\n",
    "data_augmentation = True\n",
    "num_predictions = 20\n",
    "save_dir = os.path.join(os.getcwd(), 'Model_Saves')"
   ]
  },
  {
   "cell_type": "code",
   "execution_count": 55,
   "metadata": {},
   "outputs": [
    {
     "name": "stdout",
     "output_type": "stream",
     "text": [
      "Loading Dataset...\n",
      "Dataset loaded!\n",
      "\n",
      "\n"
     ]
    }
   ],
   "source": [
    "print(\"Loading Dataset...\")\n",
    "# Load HDF5 dataset\n",
    "h5f = h5py.File('../data/train.h5', 'r')\n",
    "X_train = h5f['X']\n",
    "Y_train = h5f['Y']\n",
    "print(\"Dataset loaded!\\n\\n\")"
   ]
  },
  {
   "cell_type": "code",
   "execution_count": 56,
   "metadata": {},
   "outputs": [
    {
     "name": "stdout",
     "output_type": "stream",
     "text": [
      "Loading validation...\n",
      "Validation Loaded!\n",
      "\n",
      "\n"
     ]
    }
   ],
   "source": [
    "print(\"Loading validation...\")\n",
    "# Loads validation data\n",
    "h5f2 = h5py.File('../data/val.h5', 'r')\n",
    "X_test = h5f2['X']\n",
    "Y_test = h5f2['Y']\n",
    "print(\"Validation Loaded!\\n\\n\")"
   ]
  },
  {
   "cell_type": "code",
   "execution_count": 57,
   "metadata": {},
   "outputs": [],
   "source": [
    "model = Sequential()\n",
    "model.add(Conv2D(32, (3, 3), padding='same',\n",
    "                 input_shape=X_train.shape[1:]))\n",
    "model.add(Activation('relu'))\n",
    "model.add(Conv2D(32, (3, 3)))\n",
    "model.add(Activation('relu'))\n",
    "model.add(MaxPooling2D(pool_size=(2, 2)))\n",
    "model.add(Dropout(0.25))\n",
    "\n",
    "model.add(Conv2D(64, (3, 3), padding='same'))\n",
    "model.add(Activation('relu'))\n",
    "model.add(Conv2D(64, (3, 3)))\n",
    "model.add(Activation('relu'))\n",
    "model.add(MaxPooling2D(pool_size=(2, 2)))\n",
    "model.add(Dropout(0.25))\n",
    "\n",
    "model.add(Flatten())\n",
    "model.add(Dense(512))\n",
    "model.add(Activation('relu'))\n",
    "model.add(Dropout(0.5))\n",
    "model.add(Dense(num_classes))\n",
    "model.add(Activation('softmax'))"
   ]
  },
  {
   "cell_type": "code",
   "execution_count": 58,
   "metadata": {},
   "outputs": [],
   "source": [
    "## Model definition\n",
    "opt = keras.optimizers.RMSprop(learning_rate=0.0001, decay=1e-6)\n",
    "model.compile(loss='categorical_crossentropy',\n",
    "              optimizer=opt,\n",
    "              metrics=['accuracy'])"
   ]
  },
  {
   "cell_type": "code",
   "execution_count": 59,
   "metadata": {
    "scrolled": true
   },
   "outputs": [
    {
     "name": "stdout",
     "output_type": "stream",
     "text": [
      "Using real-time data augmentation.\n",
      "Epoch 1/70\n",
      "55/55 [==============================] - 75s 1s/step - loss: 0.4752 - accuracy: 0.8251 - val_loss: 0.4861 - val_accuracy: 0.8273\n",
      "Epoch 2/70\n",
      "55/55 [==============================] - 82s 1s/step - loss: 0.4361 - accuracy: 0.8375 - val_loss: 0.4179 - val_accuracy: 0.8273\n",
      "Epoch 3/70\n",
      "55/55 [==============================] - 63s 1s/step - loss: 0.4049 - accuracy: 0.8421 - val_loss: 0.4511 - val_accuracy: 0.8350\n",
      "Epoch 4/70\n",
      "55/55 [==============================] - 61s 1s/step - loss: 0.3924 - accuracy: 0.8469 - val_loss: 0.3974 - val_accuracy: 0.8443\n",
      "Epoch 5/70\n",
      "55/55 [==============================] - 66s 1s/step - loss: 0.3761 - accuracy: 0.8479 - val_loss: 0.4236 - val_accuracy: 0.8265\n",
      "Epoch 6/70\n",
      "55/55 [==============================] - 65s 1s/step - loss: 0.3709 - accuracy: 0.8489 - val_loss: 0.3908 - val_accuracy: 0.8389\n",
      "Epoch 7/70\n",
      "55/55 [==============================] - 67s 1s/step - loss: 0.3610 - accuracy: 0.8514 - val_loss: 0.3870 - val_accuracy: 0.8373\n",
      "Epoch 8/70\n",
      "55/55 [==============================] - 67s 1s/step - loss: 0.3532 - accuracy: 0.8494 - val_loss: 0.3693 - val_accuracy: 0.8466\n",
      "Epoch 9/70\n",
      "55/55 [==============================] - 61s 1s/step - loss: 0.3556 - accuracy: 0.8544 - val_loss: 0.3435 - val_accuracy: 0.8512\n",
      "Epoch 10/70\n",
      "55/55 [==============================] - 64s 1s/step - loss: 0.3528 - accuracy: 0.8604 - val_loss: 0.3362 - val_accuracy: 0.8527\n",
      "Epoch 11/70\n",
      "55/55 [==============================] - 65s 1s/step - loss: 0.3409 - accuracy: 0.8591 - val_loss: 0.3596 - val_accuracy: 0.8466\n",
      "Epoch 12/70\n",
      "55/55 [==============================] - 63s 1s/step - loss: 0.3365 - accuracy: 0.8610 - val_loss: 0.3264 - val_accuracy: 0.8620\n",
      "Epoch 13/70\n",
      "55/55 [==============================] - 54s 990ms/step - loss: 0.3281 - accuracy: 0.8625 - val_loss: 0.3776 - val_accuracy: 0.8335\n",
      "Epoch 14/70\n",
      "55/55 [==============================] - 60s 1s/step - loss: 0.3281 - accuracy: 0.8685 - val_loss: 0.3275 - val_accuracy: 0.8597\n",
      "Epoch 15/70\n",
      "55/55 [==============================] - 55s 995ms/step - loss: 0.3134 - accuracy: 0.8701 - val_loss: 0.3173 - val_accuracy: 0.8635\n",
      "Epoch 16/70\n",
      "55/55 [==============================] - 48s 864ms/step - loss: 0.3020 - accuracy: 0.8737 - val_loss: 0.2979 - val_accuracy: 0.8743\n",
      "Epoch 17/70\n",
      "55/55 [==============================] - 43s 777ms/step - loss: 0.3039 - accuracy: 0.8774 - val_loss: 0.3242 - val_accuracy: 0.8666\n",
      "Epoch 18/70\n",
      "55/55 [==============================] - 45s 822ms/step - loss: 0.2987 - accuracy: 0.8783 - val_loss: 0.2916 - val_accuracy: 0.8743\n",
      "Epoch 19/70\n",
      "55/55 [==============================] - 41s 750ms/step - loss: 0.3058 - accuracy: 0.8836 - val_loss: 0.2994 - val_accuracy: 0.8805\n",
      "Epoch 20/70\n",
      "55/55 [==============================] - 42s 764ms/step - loss: 0.2920 - accuracy: 0.8830 - val_loss: 0.2826 - val_accuracy: 0.8836\n",
      "Epoch 21/70\n",
      "55/55 [==============================] - 40s 733ms/step - loss: 0.2861 - accuracy: 0.8868 - val_loss: 0.2978 - val_accuracy: 0.8774\n",
      "Epoch 22/70\n",
      "55/55 [==============================] - 40s 728ms/step - loss: 0.2888 - accuracy: 0.8872 - val_loss: 0.2731 - val_accuracy: 0.8897\n",
      "Epoch 23/70\n",
      "55/55 [==============================] - 40s 729ms/step - loss: 0.2727 - accuracy: 0.8928 - val_loss: 0.2656 - val_accuracy: 0.8967\n",
      "Epoch 24/70\n",
      "55/55 [==============================] - 40s 724ms/step - loss: 0.2718 - accuracy: 0.8938 - val_loss: 0.2821 - val_accuracy: 0.8828\n",
      "Epoch 25/70\n",
      "55/55 [==============================] - 40s 726ms/step - loss: 0.2745 - accuracy: 0.8940 - val_loss: 0.2643 - val_accuracy: 0.8936\n",
      "Epoch 26/70\n",
      "55/55 [==============================] - 41s 738ms/step - loss: 0.2700 - accuracy: 0.8972 - val_loss: 0.2683 - val_accuracy: 0.8874\n",
      "Epoch 27/70\n",
      "55/55 [==============================] - 41s 742ms/step - loss: 0.2685 - accuracy: 0.8953 - val_loss: 0.2846 - val_accuracy: 0.8851\n",
      "Epoch 28/70\n",
      "55/55 [==============================] - 40s 734ms/step - loss: 0.2562 - accuracy: 0.9015 - val_loss: 0.2569 - val_accuracy: 0.8936\n",
      "Epoch 29/70\n",
      "55/55 [==============================] - 40s 732ms/step - loss: 0.2572 - accuracy: 0.9005 - val_loss: 0.2629 - val_accuracy: 0.8921\n",
      "Epoch 30/70\n",
      "55/55 [==============================] - 40s 734ms/step - loss: 0.2597 - accuracy: 0.9038 - val_loss: 0.2456 - val_accuracy: 0.8998\n",
      "Epoch 31/70\n",
      "55/55 [==============================] - 43s 777ms/step - loss: 0.2556 - accuracy: 0.9059 - val_loss: 0.2512 - val_accuracy: 0.8975\n",
      "Epoch 32/70\n",
      "55/55 [==============================] - 40s 728ms/step - loss: 0.2537 - accuracy: 0.9028 - val_loss: 0.2685 - val_accuracy: 0.8905\n",
      "Epoch 33/70\n",
      "55/55 [==============================] - 40s 724ms/step - loss: 0.2441 - accuracy: 0.9080 - val_loss: 0.2515 - val_accuracy: 0.9005\n",
      "Epoch 34/70\n",
      "55/55 [==============================] - 40s 726ms/step - loss: 0.2466 - accuracy: 0.9067 - val_loss: 0.2437 - val_accuracy: 0.9044\n",
      "Epoch 35/70\n",
      "55/55 [==============================] - 41s 737ms/step - loss: 0.2438 - accuracy: 0.9055 - val_loss: 0.2363 - val_accuracy: 0.9044\n",
      "Epoch 36/70\n",
      "55/55 [==============================] - 40s 731ms/step - loss: 0.2638 - accuracy: 0.9057 - val_loss: 0.2398 - val_accuracy: 0.9082\n",
      "Epoch 37/70\n",
      "55/55 [==============================] - 44s 807ms/step - loss: 0.2361 - accuracy: 0.9075 - val_loss: 0.2416 - val_accuracy: 0.9067\n",
      "Epoch 38/70\n",
      "55/55 [==============================] - 42s 772ms/step - loss: 0.2424 - accuracy: 0.9073 - val_loss: 0.2318 - val_accuracy: 0.9106\n",
      "Epoch 39/70\n",
      "55/55 [==============================] - 40s 723ms/step - loss: 0.2416 - accuracy: 0.9059 - val_loss: 0.2452 - val_accuracy: 0.9036\n",
      "Epoch 40/70\n",
      "55/55 [==============================] - 40s 723ms/step - loss: 0.2482 - accuracy: 0.9073 - val_loss: 0.2353 - val_accuracy: 0.9082\n",
      "Epoch 41/70\n",
      "55/55 [==============================] - 47s 859ms/step - loss: 0.2328 - accuracy: 0.9163 - val_loss: 0.2341 - val_accuracy: 0.9121\n",
      "Epoch 42/70\n",
      "55/55 [==============================] - 50s 910ms/step - loss: 0.2318 - accuracy: 0.9096 - val_loss: 0.2235 - val_accuracy: 0.9090\n",
      "Epoch 43/70\n",
      "55/55 [==============================] - 40s 736ms/step - loss: 0.2318 - accuracy: 0.9090 - val_loss: 0.2327 - val_accuracy: 0.9106\n",
      "Epoch 44/70\n",
      "55/55 [==============================] - 40s 729ms/step - loss: 0.2623 - accuracy: 0.9146 - val_loss: 0.2251 - val_accuracy: 0.9144\n",
      "Epoch 45/70\n",
      "55/55 [==============================] - 47s 862ms/step - loss: 0.2348 - accuracy: 0.9119 - val_loss: 0.2283 - val_accuracy: 0.9121\n",
      "Epoch 46/70\n",
      "55/55 [==============================] - 40s 736ms/step - loss: 0.2210 - accuracy: 0.9152 - val_loss: 0.2218 - val_accuracy: 0.9190\n",
      "Epoch 47/70\n",
      "55/55 [==============================] - 39s 717ms/step - loss: 0.2263 - accuracy: 0.9109 - val_loss: 0.2194 - val_accuracy: 0.9175\n",
      "Epoch 48/70\n",
      "55/55 [==============================] - 40s 726ms/step - loss: 0.2283 - accuracy: 0.9119 - val_loss: 0.2174 - val_accuracy: 0.9229\n",
      "Epoch 49/70\n",
      "55/55 [==============================] - 42s 765ms/step - loss: 0.2103 - accuracy: 0.9186 - val_loss: 0.2237 - val_accuracy: 0.9190\n",
      "Epoch 50/70\n",
      "55/55 [==============================] - 42s 767ms/step - loss: 0.2646 - accuracy: 0.9159 - val_loss: 0.2141 - val_accuracy: 0.9144\n",
      "Epoch 51/70\n",
      "55/55 [==============================] - 40s 722ms/step - loss: 0.2211 - accuracy: 0.9146 - val_loss: 0.2251 - val_accuracy: 0.9144\n",
      "Epoch 52/70\n",
      "55/55 [==============================] - 39s 713ms/step - loss: 0.2205 - accuracy: 0.9140 - val_loss: 0.2066 - val_accuracy: 0.9252\n",
      "Epoch 53/70\n",
      "55/55 [==============================] - 40s 723ms/step - loss: 0.2123 - accuracy: 0.9165 - val_loss: 0.2104 - val_accuracy: 0.9229\n",
      "Epoch 54/70\n",
      "55/55 [==============================] - 39s 717ms/step - loss: 0.2131 - accuracy: 0.9154 - val_loss: 0.2049 - val_accuracy: 0.9214\n",
      "Epoch 55/70\n",
      "55/55 [==============================] - 40s 728ms/step - loss: 0.2173 - accuracy: 0.9134 - val_loss: 0.2046 - val_accuracy: 0.9237\n",
      "Epoch 56/70\n",
      "55/55 [==============================] - 42s 771ms/step - loss: 0.2075 - accuracy: 0.9210 - val_loss: 0.2044 - val_accuracy: 0.9206\n",
      "Epoch 57/70\n",
      "55/55 [==============================] - 51s 930ms/step - loss: 0.2106 - accuracy: 0.9183 - val_loss: 0.2145 - val_accuracy: 0.9167\n"
     ]
    },
    {
     "name": "stdout",
     "output_type": "stream",
     "text": [
      "Epoch 58/70\n",
      "55/55 [==============================] - 42s 771ms/step - loss: 0.2321 - accuracy: 0.9167 - val_loss: 0.2022 - val_accuracy: 0.9244\n",
      "Epoch 59/70\n",
      "55/55 [==============================] - 41s 741ms/step - loss: 0.2018 - accuracy: 0.9179 - val_loss: 0.2079 - val_accuracy: 0.9221\n",
      "Epoch 60/70\n",
      "55/55 [==============================] - 41s 752ms/step - loss: 0.2104 - accuracy: 0.9175 - val_loss: 0.2075 - val_accuracy: 0.9198\n",
      "Epoch 61/70\n",
      "55/55 [==============================] - 49s 892ms/step - loss: 0.2113 - accuracy: 0.9210 - val_loss: 0.2051 - val_accuracy: 0.9221\n",
      "Epoch 62/70\n",
      "55/55 [==============================] - 48s 876ms/step - loss: 0.2227 - accuracy: 0.9208 - val_loss: 0.2031 - val_accuracy: 0.9237\n",
      "Epoch 63/70\n",
      "55/55 [==============================] - 40s 719ms/step - loss: 0.2087 - accuracy: 0.9208 - val_loss: 0.2076 - val_accuracy: 0.9206\n",
      "Epoch 64/70\n",
      "55/55 [==============================] - 40s 733ms/step - loss: 0.2031 - accuracy: 0.9186 - val_loss: 0.1995 - val_accuracy: 0.9214\n",
      "Epoch 65/70\n",
      "55/55 [==============================] - 40s 732ms/step - loss: 0.2073 - accuracy: 0.9158 - val_loss: 0.1973 - val_accuracy: 0.9291\n",
      "Epoch 66/70\n",
      "55/55 [==============================] - 40s 730ms/step - loss: 0.2034 - accuracy: 0.9238 - val_loss: 0.1920 - val_accuracy: 0.9283\n",
      "Epoch 67/70\n",
      "55/55 [==============================] - 40s 728ms/step - loss: 0.2072 - accuracy: 0.9181 - val_loss: 0.2047 - val_accuracy: 0.9237\n",
      "Epoch 68/70\n",
      "55/55 [==============================] - 41s 737ms/step - loss: 0.2130 - accuracy: 0.9184 - val_loss: 0.1960 - val_accuracy: 0.9260\n",
      "Epoch 69/70\n",
      "55/55 [==============================] - 39s 709ms/step - loss: 0.2091 - accuracy: 0.9167 - val_loss: 0.1884 - val_accuracy: 0.9283\n",
      "Epoch 70/70\n",
      "55/55 [==============================] - 41s 748ms/step - loss: 0.2052 - accuracy: 0.9254 - val_loss: 0.1905 - val_accuracy: 0.9291\n"
     ]
    }
   ],
   "source": [
    "\n",
    "if not data_augmentation:\n",
    "    print('Not using data augmentation.')\n",
    "    model.fit(X_train, Y_train,\n",
    "              batch_size=batch_size,\n",
    "              epochs=epochs,\n",
    "              validation_data=(X_test, Y_test),\n",
    "              shuffle=True)\n",
    "else:\n",
    "    print('Using real-time data augmentation.')\n",
    "    # This will do preprocessing and realtime data augmentation:\n",
    "    datagen = ImageDataGenerator(\n",
    "        featurewise_center=False,  # set input mean to 0 over the dataset\n",
    "        samplewise_center=False,  # set each sample mean to 0\n",
    "        featurewise_std_normalization=False,  # divide inputs by std of the dataset\n",
    "        samplewise_std_normalization=False,  # divide each input by its std\n",
    "        zca_whitening=False,  # apply ZCA whitening\n",
    "        zca_epsilon=1e-06,  # epsilon for ZCA whitening\n",
    "        rotation_range=0,  # randomly rotate images in the range (degrees, 0 to 180)\n",
    "        # randomly shift images horizontally (fraction of total width)\n",
    "        width_shift_range=0.1,\n",
    "        # randomly shift images vertically (fraction of total height)\n",
    "        height_shift_range=0.1,\n",
    "        shear_range=0.,  # set range for random shear\n",
    "        zoom_range=0.,  # set range for random zoom\n",
    "        channel_shift_range=0.,  # set range for random channel shifts\n",
    "        # set mode for filling points outside the input boundaries\n",
    "        fill_mode='nearest',\n",
    "        cval=0.,  # value used for fill_mode = \"constant\"\n",
    "        horizontal_flip=True,  # randomly flip images\n",
    "        vertical_flip=False,  # randomly flip images\n",
    "        # set rescaling factor (applied before any other transformation)\n",
    "        rescale=None,\n",
    "        # set function that will be applied on each input\n",
    "        preprocessing_function=None,\n",
    "        # image data format, either \"channels_first\" or \"channels_last\"\n",
    "        data_format=None,\n",
    "        # fraction of images reserved for validation (strictly between 0 and 1)\n",
    "        validation_split=0.0)\n",
    "\n",
    "    # Compute quantities required for feature-wise normalization\n",
    "    # (std, mean, and principal components if ZCA whitening is applied).\n",
    "    datagen.fit(X_train)\n",
    "\n",
    "    # Fit the model on the batches generated by datagen.flow().\n",
    "    model.fit_generator(datagen.flow(X_train, Y_train,\n",
    "                                     batch_size=batch_size),\n",
    "                        epochs=epochs,\n",
    "                        validation_data=(X_test, Y_test),\n",
    "                        workers=4)"
   ]
  },
  {
   "cell_type": "code",
   "execution_count": 61,
   "metadata": {},
   "outputs": [
    {
     "name": "stdout",
     "output_type": "stream",
     "text": [
      "Saved trained model at C:\\Users\\Owner\\Documents\\GitHub\\Nyx\\Machine Learning\\models\\Model_Saves\\Model_Save \n"
     ]
    }
   ],
   "source": [
    "# Save model and weights\n",
    "if not os.path.isdir(save_dir):\n",
    "    os.makedirs(save_dir)\n",
    "model_path = os.path.join(save_dir, \"Model_Save\")\n",
    "model.save(model_path)\n",
    "print('Saved trained model at %s ' % model_path)\n"
   ]
  },
  {
   "cell_type": "code",
   "execution_count": 64,
   "metadata": {},
   "outputs": [
    {
     "name": "stdout",
     "output_type": "stream",
     "text": [
      "1297/1297 [==============================] - 4s 3ms/step\n",
      "Test loss: 0.19054493939959277\n",
      "Test accuracy: 0.929067075252533\n"
     ]
    }
   ],
   "source": [
    "# Score trained model.\n",
    "scores = model.evaluate(X_test, Y_test, verbose=1)\n",
    "print('Test loss:', scores[0])\n",
    "print('Test accuracy:', scores[1])"
   ]
  },
  {
   "cell_type": "code",
   "execution_count": 65,
   "metadata": {},
   "outputs": [],
   "source": [
    "h5f.close()\n",
    "h5f2.close()"
   ]
  }
 ],
 "metadata": {
  "kernelspec": {
   "display_name": "Python 3",
   "language": "python",
   "name": "python3"
  },
  "language_info": {
   "codemirror_mode": {
    "name": "ipython",
    "version": 3
   },
   "file_extension": ".py",
   "mimetype": "text/x-python",
   "name": "python",
   "nbconvert_exporter": "python",
   "pygments_lexer": "ipython3",
   "version": "3.7.6"
  }
 },
 "nbformat": 4,
 "nbformat_minor": 2
}
